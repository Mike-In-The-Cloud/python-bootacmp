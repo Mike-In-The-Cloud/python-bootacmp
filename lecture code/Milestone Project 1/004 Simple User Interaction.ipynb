{
 "cells": [
  {
   "cell_type": "markdown",
   "metadata": {},
   "source": [
    "## using functions to bring togetther user input, validation with a simple game"
   ]
  },
  {
   "cell_type": "code",
   "execution_count": null,
   "metadata": {},
   "outputs": [],
   "source": [
    "# list of three items, user choose index pos and input value\n",
    "# value validated between 0-2"
   ]
  },
  {
   "cell_type": "code",
   "execution_count": 1,
   "metadata": {},
   "outputs": [],
   "source": [
    "game_list = [0,1,2]\n",
    "from IPython.display import clear_output"
   ]
  },
  {
   "cell_type": "code",
   "execution_count": 2,
   "metadata": {},
   "outputs": [],
   "source": [
    "def display_game(game_list):\n",
    "    print(\"This is the current list: \")\n",
    "    print(game_list)"
   ]
  },
  {
   "cell_type": "code",
   "execution_count": 3,
   "metadata": {},
   "outputs": [
    {
     "name": "stdout",
     "output_type": "stream",
     "text": [
      "This is the current list: \n",
      "[0, 1, 2]\n"
     ]
    }
   ],
   "source": [
    "display_game(game_list)"
   ]
  },
  {
   "cell_type": "code",
   "execution_count": 4,
   "metadata": {},
   "outputs": [],
   "source": [
    "def position_choice():\n",
    "    \n",
    "    # original choice value, arbitrary input - not an int\n",
    "    choice = \"wrong\"\n",
    "    \n",
    "    # while loop for user input - while choice isnt an integer keep asking for input\n",
    "    while choice not in ['0','1','2']:\n",
    "        choice = input(\"Pick a position to replace (0,1,2): \")\n",
    "        # clears current output\n",
    "        #clear_output()\n",
    "        if choice not in ['0','1','2']:\n",
    "            print(\"Sorry, please enter a correct value between 0 and 2\")\n",
    "        \n",
    "    return int(choice)\n",
    "    "
   ]
  },
  {
   "cell_type": "code",
   "execution_count": 5,
   "metadata": {},
   "outputs": [],
   "source": [
    "def replacement_choice(game_list,position):\n",
    "    user_placement = input(\"Type a string to place at the position: \")\n",
    "    game_list[position] = user_placement\n",
    "    \n",
    "    return game_list"
   ]
  },
  {
   "cell_type": "code",
   "execution_count": 6,
   "metadata": {},
   "outputs": [],
   "source": [
    "def game_on_choice():\n",
    "    \"\"\"\n",
    "    Check to see if the user wants to keep playing\n",
    "    \"\"\"\n",
    "    \n",
    "    choice = \"wrong\"\n",
    "    \n",
    "    while choice not in ['Y','N','y','n']:\n",
    "        choice = input(\"Would you like to keep playing? Y or N \")\n",
    "        \n",
    "        if choice not in ['Y','N','n','y']:\n",
    "            clear_output()\n",
    "            \n",
    "            print(\"Sorry, I did not quiet understand. Please enter Y or N \")\n",
    "            \n",
    "    if choice == \"Y\":\n",
    "            # game on\n",
    "        return True\n",
    "    elif choice == \"y\":\n",
    "        return True\n",
    "    else:\n",
    "        # end game\n",
    "        return False        \n",
    "    "
   ]
  },
  {
   "cell_type": "code",
   "execution_count": 7,
   "metadata": {},
   "outputs": [
    {
     "name": "stdout",
     "output_type": "stream",
     "text": [
      "This is the current list: \n",
      "['Left', 1, 2]\n",
      "Would you like to keep playing? Y or N n\n"
     ]
    }
   ],
   "source": [
    "game_on = True\n",
    "\n",
    "game_list = [0,1,2]\n",
    "\n",
    "# simple game logic\n",
    "while game_on == True:\n",
    "    \n",
    "    #remove historical inputs\n",
    "    clear_output()\n",
    "    display_game(game_list)\n",
    "    \n",
    "    #user input\n",
    "    position = position_choice()\n",
    "    #update position and game list\n",
    "    game_list = replacement_choice(game_list,position)\n",
    "    #clear screen and display updated game list\n",
    "    clear_output()\n",
    "    display_game(game_list)\n",
    "    # keep playing\n",
    "    game_on = game_on_choice()"
   ]
  },
  {
   "cell_type": "code",
   "execution_count": null,
   "metadata": {},
   "outputs": [],
   "source": []
  },
  {
   "cell_type": "code",
   "execution_count": null,
   "metadata": {},
   "outputs": [],
   "source": []
  },
  {
   "cell_type": "code",
   "execution_count": null,
   "metadata": {},
   "outputs": [],
   "source": []
  }
 ],
 "metadata": {
  "kernelspec": {
   "display_name": "Python 3",
   "language": "python",
   "name": "python3"
  },
  "language_info": {
   "codemirror_mode": {
    "name": "ipython",
    "version": 3
   },
   "file_extension": ".py",
   "mimetype": "text/x-python",
   "name": "python",
   "nbconvert_exporter": "python",
   "pygments_lexer": "ipython3",
   "version": "3.8.10"
  }
 },
 "nbformat": 4,
 "nbformat_minor": 4
}
