{
 "cells": [
  {
   "cell_type": "markdown",
   "metadata": {},
   "source": [
    "# iterable items in python"
   ]
  },
  {
   "cell_type": "code",
   "execution_count": 1,
   "metadata": {},
   "outputs": [],
   "source": [
    "my_iterable = [1,2,3]\n",
    "for item in my_iterable:\n",
    "    print(item)"
   ]
  },
  {
   "cell_type": "code",
   "execution_count": 2,
   "metadata": {},
   "outputs": [],
   "source": [
    "num_list = [1,2,3,4,5,6,7,8,9,10]"
   ]
  },
  {
   "cell_type": "code",
   "execution_count": 3,
   "metadata": {},
   "outputs": [],
   "source": [
    "for num in num_list:\n",
    "    print(\"This is {}\".format(num))"
   ]
  },
  {
   "cell_type": "code",
   "execution_count": 4,
   "metadata": {},
   "outputs": [],
   "source": [
    "for num in num_list:\n",
    "    if (num % 2 == 0):# check for even\n",
    "        print(\"Even number {}\".format(num)) # .format\n",
    "    else:\n",
    "        print(f'Odd number {num}') # f'string"
   ]
  },
  {
   "cell_type": "code",
   "execution_count": 5,
   "metadata": {},
   "outputs": [],
   "source": [
    "# totalling all values in num_list\n",
    "list_sum = 0\n",
    "\n",
    "for num in num_list:\n",
    "    list_sum = list_sum + num\n",
    "    \n",
    "print(list_sum)"
   ]
  },
  {
   "cell_type": "code",
   "execution_count": 6,
   "metadata": {},
   "outputs": [],
   "source": [
    "my_string = \"Hello World\"\n",
    "\n",
    "for letter in my_string:\n",
    "    print(letter)"
   ]
  },
  {
   "cell_type": "code",
   "execution_count": 7,
   "metadata": {},
   "outputs": [],
   "source": [
    "#tuple iteration \n",
    "tup =(1,2,3)\n",
    "\n",
    "for item in tup:\n",
    "    print(item)"
   ]
  },
  {
   "cell_type": "code",
   "execution_count": 8,
   "metadata": {},
   "outputs": [],
   "source": [
    "# tuple unpacking\n",
    "my_list = [(1,2),(3,4),(5,6),(7,8)] # list of tuple pairs\n",
    "print(f\"lenght of list {len(my_list)}\")\n",
    "\n",
    "print(\"\\nTuple pairs:\")\n",
    "for item in my_list: # print pairs\n",
    "    print(item)\n",
    "\n",
    "print(\"\\nTuple Unpacking:\")\n",
    "for (a,b) in my_list: # unpack tuple and print each item\n",
    "    print(a)\n",
    "    print(b)"
   ]
  },
  {
   "cell_type": "code",
   "execution_count": 9,
   "metadata": {},
   "outputs": [],
   "source": [
    "# another example of tuple unpacking\n",
    "my_list = [(1,2,3),(4,5,6),(7,8,9)]\n",
    "for a,b,c in my_list:\n",
    "    print(b)"
   ]
  },
  {
   "cell_type": "code",
   "execution_count": 10,
   "metadata": {},
   "outputs": [],
   "source": [
    "# iteration through a dictionary\n",
    "d = {'k1':1,'k2':2,'k3':3}\n",
    "\n",
    "print(\"Returns keys\")\n",
    "# grabs only key \n",
    "for item in d:\n",
    "    print(item) \n",
    "\n",
    "print(\"\\nKey value pairs\")\n",
    "# iteration through key value pairs\n",
    "for item in d.items():\n",
    "    print(item)\n",
    "\n",
    "print(\"\\nValues only\")\n",
    "# iteration though values\n",
    "for item in d.values():\n",
    "    print(item)"
   ]
  }
 ],
 "metadata": {
  "kernelspec": {
   "display_name": "Python 3",
   "language": "python",
   "name": "python3"
  },
  "language_info": {
   "codemirror_mode": {
    "name": "ipython",
    "version": 3
   },
   "file_extension": ".py",
   "mimetype": "text/x-python",
   "name": "python",
   "nbconvert_exporter": "python",
   "pygments_lexer": "ipython3",
   "version": "3.8.10"
  }
 },
 "nbformat": 4,
 "nbformat_minor": 4
}
