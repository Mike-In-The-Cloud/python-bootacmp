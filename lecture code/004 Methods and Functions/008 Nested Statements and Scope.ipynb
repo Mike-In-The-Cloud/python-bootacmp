{
 "cells": [
  {
   "cell_type": "code",
   "execution_count": 1,
   "metadata": {},
   "outputs": [],
   "source": [
    "x = 25\n",
    "\n",
    "def printer():\n",
    "    x = 50\n",
    "    return x"
   ]
  },
  {
   "cell_type": "code",
   "execution_count": 4,
   "metadata": {},
   "outputs": [
    {
     "name": "stdout",
     "output_type": "stream",
     "text": [
      "25\n",
      "50\n",
      "25\n"
     ]
    }
   ],
   "source": [
    "print(x)\n",
    "print(printer())\n",
    "print(x)"
   ]
  },
  {
   "cell_type": "code",
   "execution_count": 5,
   "metadata": {},
   "outputs": [
    {
     "data": {
      "text/plain": [
       "<function __main__.<lambda>(num)>"
      ]
     },
     "execution_count": 5,
     "metadata": {},
     "output_type": "execute_result"
    }
   ],
   "source": [
    "# local variable\n",
    "lambda num:num**2"
   ]
  },
  {
   "cell_type": "code",
   "execution_count": 9,
   "metadata": {},
   "outputs": [
    {
     "name": "stdout",
     "output_type": "stream",
     "text": [
      "Hello Sammy\n",
      "This is a global string\n"
     ]
    }
   ],
   "source": [
    "name = \"This is a global string\"\n",
    "\n",
    "def greet():\n",
    "    # enclosing\n",
    "    name = \"Sammy\"\n",
    "    \n",
    "    def hello():\n",
    "        print(\"Hello \" + name)\n",
    "    \n",
    "    hello()\n",
    "    \n",
    "greet()\n",
    "print(name)"
   ]
  },
  {
   "cell_type": "code",
   "execution_count": 12,
   "metadata": {},
   "outputs": [
    {
     "name": "stdout",
     "output_type": "stream",
     "text": [
      "Hello This is a global string\n"
     ]
    }
   ],
   "source": [
    "# removing the enclosing variable to see the behaviour \n",
    "def greet():\n",
    "    # enclosing \n",
    "    #name = \"Sammy\"\n",
    "    \n",
    "    def hello():\n",
    "        print(\"Hello \" + name)\n",
    "    \n",
    "    hello()\n",
    "    \n",
    "greet()"
   ]
  },
  {
   "cell_type": "code",
   "execution_count": 13,
   "metadata": {},
   "outputs": [
    {
     "name": "stdout",
     "output_type": "stream",
     "text": [
      "Hello I'm a local\n"
     ]
    }
   ],
   "source": [
    "# using the local variable to see the behaviour \n",
    "def greet():\n",
    "    # enclosing \n",
    "    #name = \"Sammy\"\n",
    "    \n",
    "    def hello():\n",
    "        # local varaible\n",
    "        name = \"I'm a local\"\n",
    "        print(\"Hello \" + name)\n",
    "    \n",
    "    hello()\n",
    "    \n",
    "greet()"
   ]
  },
  {
   "cell_type": "code",
   "execution_count": 14,
   "metadata": {},
   "outputs": [],
   "source": [
    "# thought experiment\n",
    "x = 50\n",
    "\n",
    "def func(x):\n",
    "    print(f'X is {x}')\n",
    "    \n",
    "    "
   ]
  },
  {
   "cell_type": "code",
   "execution_count": 15,
   "metadata": {},
   "outputs": [
    {
     "name": "stdout",
     "output_type": "stream",
     "text": [
      "X is 50\n"
     ]
    }
   ],
   "source": [
    "func(x)"
   ]
  },
  {
   "cell_type": "code",
   "execution_count": 17,
   "metadata": {},
   "outputs": [],
   "source": [
    "# thought experiment cont..\n",
    "x = 50\n",
    "\n",
    "def func(x):\n",
    "    print(f'X is {x}')\n",
    "    \n",
    "    x = 200\n",
    "    print(f'Changing variables using local variable X to {x}')"
   ]
  },
  {
   "cell_type": "code",
   "execution_count": 18,
   "metadata": {},
   "outputs": [
    {
     "name": "stdout",
     "output_type": "stream",
     "text": [
      "X is 50\n",
      "Changing variables using local variable X to 200\n"
     ]
    }
   ],
   "source": [
    "func(x)"
   ]
  },
  {
   "cell_type": "code",
   "execution_count": 20,
   "metadata": {},
   "outputs": [],
   "source": [
    "# thought experiment cont..\n",
    "def func():\n",
    "    # effects the global x variable, changing it globally\n",
    "    global x \n",
    "    print(f'X is {x}')\n",
    "    \n",
    "    x = 200\n",
    "    print(f'Changing global X to {x}')"
   ]
  },
  {
   "cell_type": "code",
   "execution_count": 25,
   "metadata": {},
   "outputs": [
    {
     "name": "stdout",
     "output_type": "stream",
     "text": [
      "BEFORE FUNCTION X = 50\n",
      "\n",
      "\n",
      "X is 50\n",
      "Changing global X to 200\n",
      "\n",
      "\n",
      "AFTER FUNCTION X = 200\n"
     ]
    }
   ],
   "source": [
    "x = 50\n",
    "print(f'BEFORE FUNCTION X = {x}\\n\\n')\n",
    "func()\n",
    "print(f'\\n\\nAFTER FUNCTION X = {x}')"
   ]
  },
  {
   "cell_type": "code",
   "execution_count": null,
   "metadata": {},
   "outputs": [],
   "source": []
  }
 ],
 "metadata": {
  "kernelspec": {
   "display_name": "Python 3",
   "language": "python",
   "name": "python3"
  },
  "language_info": {
   "codemirror_mode": {
    "name": "ipython",
    "version": 3
   },
   "file_extension": ".py",
   "mimetype": "text/x-python",
   "name": "python",
   "nbconvert_exporter": "python",
   "pygments_lexer": "ipython3",
   "version": "3.8.10"
  }
 },
 "nbformat": 4,
 "nbformat_minor": 4
}
