{
 "cells": [
  {
   "cell_type": "markdown",
   "metadata": {},
   "source": [
    "## multiple functions returning objects and interacting with each other"
   ]
  },
  {
   "cell_type": "code",
   "execution_count": 1,
   "metadata": {},
   "outputs": [],
   "source": [
    "# shuffle function\n",
    "example = [1,2,3,4,5,6,7]\n",
    "example"
   ]
  },
  {
   "cell_type": "code",
   "execution_count": 2,
   "metadata": {},
   "outputs": [],
   "source": [
    "from random import shuffle"
   ]
  },
  {
   "cell_type": "code",
   "execution_count": 3,
   "metadata": {},
   "outputs": [],
   "source": [
    "shuffle(example)"
   ]
  },
  {
   "cell_type": "code",
   "execution_count": 4,
   "metadata": {},
   "outputs": [
    {
     "data": {
      "text/plain": [
       "[2, 6, 1, 3, 4, 7, 5]"
      ]
     },
     "execution_count": 4,
     "metadata": {},
     "output_type": "execute_result"
    }
   ],
   "source": [
    "example"
   ]
  },
  {
   "cell_type": "markdown",
   "metadata": {},
   "source": [
    "### creation of a simple game using the shuffle function "
   ]
  },
  {
   "cell_type": "code",
   "execution_count": 5,
   "metadata": {},
   "outputs": [],
   "source": [
    "def shuffle_list(my_list):\n",
    "    '''\n",
    "    shuffle lists \n",
    "    returns list \n",
    "    '''\n",
    "    shuffle(my_list)\n",
    "    return my_list"
   ]
  },
  {
   "cell_type": "code",
   "execution_count": 6,
   "metadata": {},
   "outputs": [],
   "source": [
    "result = shuffle_list(example)"
   ]
  },
  {
   "cell_type": "code",
   "execution_count": 7,
   "metadata": {},
   "outputs": [
    {
     "data": {
      "text/plain": [
       "[4, 5, 1, 7, 3, 2, 6]"
      ]
     },
     "execution_count": 7,
     "metadata": {},
     "output_type": "execute_result"
    }
   ],
   "source": [
    "result"
   ]
  },
  {
   "cell_type": "code",
   "execution_count": 8,
   "metadata": {},
   "outputs": [],
   "source": [
    "mylist = [' ', 'O', ' ']"
   ]
  },
  {
   "cell_type": "code",
   "execution_count": 9,
   "metadata": {},
   "outputs": [
    {
     "data": {
      "text/plain": [
       "['O', ' ', ' ']"
      ]
     },
     "execution_count": 9,
     "metadata": {},
     "output_type": "execute_result"
    }
   ],
   "source": [
    "shuffle_list(mylist)"
   ]
  },
  {
   "cell_type": "code",
   "execution_count": 10,
   "metadata": {},
   "outputs": [],
   "source": [
    "def player_guess():\n",
    "    \n",
    "    guess = ''\n",
    "    \n",
    "    while guess not in ['0','1','2']:\n",
    "        \n",
    "        # Recall input() returns a string\n",
    "        print(\"Pick a number: 0, 1, or 2:  \")\n",
    "        guess = input()\n",
    "    \n",
    "    return int(guess)  \n",
    "    "
   ]
  },
  {
   "cell_type": "code",
   "execution_count": 11,
   "metadata": {},
   "outputs": [
    {
     "name": "stdout",
     "output_type": "stream",
     "text": [
      "Pick a number: 0, 1, or 2:  \n",
      "2\n"
     ]
    },
    {
     "data": {
      "text/plain": [
       "2"
      ]
     },
     "execution_count": 11,
     "metadata": {},
     "output_type": "execute_result"
    }
   ],
   "source": [
    "player_guess()"
   ]
  },
  {
   "cell_type": "code",
   "execution_count": 12,
   "metadata": {},
   "outputs": [],
   "source": [
    "def check_guess(mylist,guess):\n",
    "    if mylist[guess] == 'O':\n",
    "        print(\"Correct\")\n",
    "    else:\n",
    "        print(\"Wrong Guess!\")\n",
    "        print(mylist)"
   ]
  },
  {
   "cell_type": "code",
   "execution_count": 13,
   "metadata": {},
   "outputs": [
    {
     "name": "stdout",
     "output_type": "stream",
     "text": [
      "Pick a number: 0, 1, or 2:  \n",
      "1\n",
      "Wrong Guess!\n",
      "[' ', ' ', 'O']\n"
     ]
    }
   ],
   "source": [
    "## Inital list\n",
    "mylist = [' ', 'O', ' ']\n",
    "## SHUFFLE LIST\n",
    "mixedup_list = shuffle_list(mylist)\n",
    "## USER GUESS\n",
    "guess = player_guess()\n",
    "## CHECK GUESS\n",
    "check_guess(mixedup_list,guess)"
   ]
  },
  {
   "cell_type": "code",
   "execution_count": 17,
   "metadata": {},
   "outputs": [],
   "source": [
    "def number_of_tries():\n",
    "    print(\"Enter how many time you wish to play: \")\n",
    "    num_tries = input()\n",
    "    while True:\n",
    "        try:\n",
    "            num_tries = int(num_tries)\n",
    "            break\n",
    "        except:\n",
    "            print(\"You have to type a value\")\n",
    "            num_tries = input()\n",
    "    return num_tries"
   ]
  },
  {
   "cell_type": "code",
   "execution_count": 19,
   "metadata": {},
   "outputs": [
    {
     "name": "stdout",
     "output_type": "stream",
     "text": [
      "Enter how many time you wish to play: \n",
      "e\n",
      "You have to type a value\n",
      "r\n",
      "You have to type a value\n",
      "r\n",
      "You have to type a value\n",
      "o\n",
      "You have to type a value\n",
      "r\n",
      "You have to type a value\n",
      "3\n"
     ]
    },
    {
     "data": {
      "text/plain": [
       "3"
      ]
     },
     "execution_count": 19,
     "metadata": {},
     "output_type": "execute_result"
    }
   ],
   "source": [
    "number_of_tries()"
   ]
  },
  {
   "cell_type": "code",
   "execution_count": 25,
   "metadata": {},
   "outputs": [],
   "source": [
    "def full_loop_game():\n",
    "    times_to_play = number_of_tries()\n",
    "    counter = 1\n",
    "    while counter <= times_to_play:\n",
    "        print(\"Lets start!\\n\")\n",
    "        ## Inital list\n",
    "        mylist = [' ', 'O', ' ']\n",
    "        ## SHUFFLE LIST\n",
    "        mixedup_list = shuffle_list(mylist)\n",
    "        ## USER GUESS\n",
    "        guess = player_guess()\n",
    "        ## CHECK GUESS\n",
    "        check_guess(mixedup_list,guess)\n",
    "        print(\"\\nEnd of this game!!\\n\")\n",
    "        counter += 1"
   ]
  },
  {
   "cell_type": "code",
   "execution_count": 26,
   "metadata": {},
   "outputs": [
    {
     "name": "stdout",
     "output_type": "stream",
     "text": [
      "Enter how many time you wish to play: \n",
      "2\n",
      "Lets start!\n",
      "\n",
      "Pick a number: 0, 1, or 2:  \n",
      "3\n",
      "Pick a number: 0, 1, or 2:  \n",
      "2\n",
      "Correct\n",
      "\n",
      "End of this game!!\n",
      "\n",
      "Lets start!\n",
      "\n",
      "Pick a number: 0, 1, or 2:  \n",
      "0\n",
      "Wrong Guess!\n",
      "[' ', ' ', 'O']\n",
      "\n",
      "End of this game!!\n",
      "\n"
     ]
    }
   ],
   "source": [
    "full_loop_game()"
   ]
  },
  {
   "cell_type": "code",
   "execution_count": null,
   "metadata": {},
   "outputs": [],
   "source": []
  }
 ],
 "metadata": {
  "kernelspec": {
   "display_name": "Python 3",
   "language": "python",
   "name": "python3"
  },
  "language_info": {
   "codemirror_mode": {
    "name": "ipython",
    "version": 3
   },
   "file_extension": ".py",
   "mimetype": "text/x-python",
   "name": "python",
   "nbconvert_exporter": "python",
   "pygments_lexer": "ipython3",
   "version": "3.8.10"
  }
 },
 "nbformat": 4,
 "nbformat_minor": 4
}
